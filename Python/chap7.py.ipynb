{
 "cells": [
  {
   "cell_type": "code",
   "execution_count": 1,
   "id": "4ab5892c",
   "metadata": {},
   "outputs": [
    {
     "name": "stdout",
     "output_type": "stream",
     "text": [
      "hello you\n",
      "hello you\n"
     ]
    }
   ],
   "source": [
    "def display(): \n",
    " print('hello you') \n",
    "display() \n",
    "display() "
   ]
  },
  {
   "cell_type": "code",
   "execution_count": 2,
   "id": "2901fe92",
   "metadata": {},
   "outputs": [
    {
     "name": "stdout",
     "output_type": "stream",
     "text": [
      "두수를 입력하시오.10,50\n",
      "두수 곱의 결과 500\n"
     ]
    }
   ],
   "source": [
    "def mul(a,b):\n",
    "    result=a*b\n",
    "    return result\n",
    "x,y=input('두수를 입력하시오.').split(',')\n",
    "result=mul(int(x),int(y))\n",
    "print('두수 곱의 결과 %d'%result)"
   ]
  },
  {
   "cell_type": "code",
   "execution_count": 3,
   "id": "dc2c9eb4",
   "metadata": {},
   "outputs": [
    {
     "name": "stdout",
     "output_type": "stream",
     "text": [
      "메인함수 : 5 10.000000\n",
      "함수 : 10 20.000000\n",
      "메인함수 : 5 10.000000\n"
     ]
    }
   ],
   "source": [
    "def function(x,y): \n",
    " x=10 \n",
    " y=20.0 \n",
    " print('함수 : %d %f' %(x,y)) \n",
    "x = 5 \n",
    "y = 10.0 \n",
    "print('메인함수 : %d %f' %(x,y)) \n",
    "function(x,y)\n",
    "print('메인함수 : %d %f' %(x,y))"
   ]
  },
  {
   "cell_type": "code",
   "execution_count": 4,
   "id": "fbbc442d",
   "metadata": {},
   "outputs": [
    {
     "name": "stdout",
     "output_type": "stream",
     "text": [
      "Name: Kevin\n",
      "Job: teacher\n",
      "Age: 28\n",
      "Name: Kevin\n",
      "Job: 28\n",
      "Age: teacher\n"
     ]
    }
   ],
   "source": [
    "def display(name,job,age): \n",
    " print('Name:',name)\n",
    " print('Job:',job)\n",
    " print('Age:',age)\n",
    "display('Kevin','teacher',28) \n",
    "display('Kevin',28,'teacher') "
   ]
  },
  {
   "cell_type": "code",
   "execution_count": 39,
   "id": "4d5a63ed",
   "metadata": {},
   "outputs": [
    {
     "name": "stdout",
     "output_type": "stream",
     "text": [
      "Name:Kevin\n",
      "Job: teacher\n",
      "Age: 28\n",
      "Name:Kevin\n",
      "Job: teacher\n",
      "Age: 28\n"
     ]
    }
   ],
   "source": [
    "def display(name,job,age):\n",
    "    print('Name:'+name)\n",
    "    print('Job:',job)\n",
    "    print('Age:',age)\n",
    "display(name='Kevin',job='teacher',age='28')\n",
    "display(name='Kevin',age='28',job='teacher')"
   ]
  },
  {
   "cell_type": "code",
   "execution_count": 6,
   "id": "6016dc68",
   "metadata": {},
   "outputs": [
    {
     "name": "stdout",
     "output_type": "stream",
     "text": [
      "메인함수 x: [1, 2, 3, 4, 5]\n",
      "함수 x: [10, 2, 3, 4, 5]\n",
      "메인함수 x: [10, 2, 3, 4, 5]\n"
     ]
    }
   ],
   "source": [
    "def function(x):\n",
    "    x[0]=10\n",
    "    print('함수 x:',x)\n",
    "x=[1,2,3,4,5]\n",
    "print('메인함수 x:',x)\n",
    "function(x)\n",
    "print('메인함수 x:',x)"
   ]
  },
  {
   "cell_type": "code",
   "execution_count": 8,
   "id": "be74133f",
   "metadata": {},
   "outputs": [
    {
     "name": "stdout",
     "output_type": "stream",
     "text": [
      "리스트 데이터 : 1 \n",
      "리스트 데이터 : 2 \n",
      "리스트 데이터 : 3 \n",
      "리스트 데이터 : 4 \n",
      "리스트 데이터 : 5 \n"
     ]
    }
   ],
   "source": [
    "def function(x):\n",
    " for i in x: \n",
    "     print('리스트 데이터 : %d ' %(i))\n",
    "x = [1,2,3,4,5] \n",
    "function(x) "
   ]
  },
  {
   "cell_type": "code",
   "execution_count": 43,
   "id": "f0f44d83",
   "metadata": {},
   "outputs": [
    {
     "name": "stdout",
     "output_type": "stream",
     "text": [
      "리스트 데이터 : 1 \n",
      "리스트 데이터 : 2 \n",
      "리스트 데이터 : 3 \n",
      "리스트 데이터 : 4 \n",
      "리스트 데이터 : 5 \n",
      "Name:Kevin\n",
      "Job: teacher\n",
      "Age: 28\n"
     ]
    }
   ],
   "source": [
    "import display1 \n",
    "x=[1,2,3,4,5]\n",
    "display1.function(x) \n",
    "display1.display('Kevin','teacher',28) "
   ]
  },
  {
   "cell_type": "code",
   "execution_count": 44,
   "id": "a5fbee25",
   "metadata": {},
   "outputs": [
    {
     "name": "stdout",
     "output_type": "stream",
     "text": [
      "리스트 데이터 : 1 \n",
      "리스트 데이터 : 2 \n",
      "리스트 데이터 : 3 \n",
      "리스트 데이터 : 4 \n",
      "리스트 데이터 : 5 \n"
     ]
    }
   ],
   "source": [
    "from display1 import function\n",
    "x=[1,2,3,4,5]\n",
    "function(x)"
   ]
  },
  {
   "cell_type": "code",
   "execution_count": 45,
   "id": "45cdb5fe",
   "metadata": {},
   "outputs": [
    {
     "name": "stdout",
     "output_type": "stream",
     "text": [
      "리스트 데이터 : 1 \n",
      "리스트 데이터 : 2 \n",
      "리스트 데이터 : 3 \n",
      "리스트 데이터 : 4 \n",
      "리스트 데이터 : 5 \n"
     ]
    }
   ],
   "source": [
    "from display1 import function as fun\n",
    "x=[1,2,3,4,5]\n",
    "fun(x)"
   ]
  },
  {
   "cell_type": "code",
   "execution_count": 46,
   "id": "636c5f1b",
   "metadata": {},
   "outputs": [
    {
     "name": "stdout",
     "output_type": "stream",
     "text": [
      "리스트 데이터 : 1 \n",
      "리스트 데이터 : 2 \n",
      "리스트 데이터 : 3 \n",
      "리스트 데이터 : 4 \n",
      "리스트 데이터 : 5 \n"
     ]
    }
   ],
   "source": [
    "import display1 as dp1\n",
    "x=[1,2,3,4,5]\n",
    "dp1.function(x)"
   ]
  },
  {
   "cell_type": "code",
   "execution_count": null,
   "id": "191bbf8c",
   "metadata": {},
   "outputs": [],
   "source": []
  }
 ],
 "metadata": {
  "kernelspec": {
   "display_name": "Python 3 (ipykernel)",
   "language": "python",
   "name": "python3"
  },
  "language_info": {
   "codemirror_mode": {
    "name": "ipython",
    "version": 3
   },
   "file_extension": ".py",
   "mimetype": "text/x-python",
   "name": "python",
   "nbconvert_exporter": "python",
   "pygments_lexer": "ipython3",
   "version": "3.10.9"
  }
 },
 "nbformat": 4,
 "nbformat_minor": 5
}

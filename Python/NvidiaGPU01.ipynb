{
 "cells": [
  {
   "cell_type": "code",
   "execution_count": 7,
   "id": "ae8336ee",
   "metadata": {},
   "outputs": [
    {
     "name": "stdout",
     "output_type": "stream",
     "text": [
      "[[2. 4.]\n",
      " [6. 8.]]\n"
     ]
    }
   ],
   "source": [
    "import tensorflow as tf\n",
    "def add_function(x, y): \n",
    "    x = tf.add(x,y)\n",
    "    return x\n",
    "x1 = tf.constant([[1.0, 2.0],[3.0, 4.0]])\n",
    "y1 = tf.constant([[1.0, 2.0],[3.0, 4.0]])\n",
    "result = add_function(x1, y1).numpy()\n",
    "print(result)"
   ]
  },
  {
   "cell_type": "code",
   "execution_count": 11,
   "id": "1257ba8a",
   "metadata": {},
   "outputs": [
    {
     "name": "stdout",
     "output_type": "stream",
     "text": [
      "tf.Tensor(7, shape=(), dtype=int32)\n",
      "7\n"
     ]
    }
   ],
   "source": [
    "import tensorflow as tf\n",
    "import numpy as np\n",
    "tensor_0 = tf.constant(7)\n",
    "print(tensor_0)\n",
    "print(tensor_0.numpy())"
   ]
  },
  {
   "cell_type": "code",
   "execution_count": 14,
   "id": "2659ebd0",
   "metadata": {},
   "outputs": [
    {
     "name": "stdout",
     "output_type": "stream",
     "text": [
      "tf.Tensor([1. 2. 3. 4. 5.], shape=(5,), dtype=float32)\n",
      "[1. 2. 3. 4. 5.]\n"
     ]
    }
   ],
   "source": [
    "import tensorflow as tf\n",
    "import numpy as np\n",
    "tensor_1 = tf.constant([1.0, 2.0, 3.0, 4.0, 5.0])\n",
    "print(tensor_1)\n",
    "print(tensor_1.numpy())"
   ]
  },
  {
   "cell_type": "code",
   "execution_count": 15,
   "id": "fb87671d",
   "metadata": {},
   "outputs": [
    {
     "name": "stdout",
     "output_type": "stream",
     "text": [
      "tf.Tensor(\n",
      "[[10. 20.]\n",
      " [30. 40.]], shape=(2, 2), dtype=float16)\n",
      "[[10. 20.]\n",
      " [30. 40.]]\n"
     ]
    }
   ],
   "source": [
    "import tensorflow as tf\n",
    "import numpy as np\n",
    "tensor_2 = tf.constant([[10, 20],[30, 40]], dtype=tf.float16)\n",
    "print(tensor_2)\n",
    "print(tensor_2.numpy())"
   ]
  },
  {
   "cell_type": "code",
   "execution_count": 16,
   "id": "3901e615",
   "metadata": {},
   "outputs": [
    {
     "name": "stdout",
     "output_type": "stream",
     "text": [
      "tf.Tensor(\n",
      "[[[ 0  1  2  3]\n",
      "  [ 4  5  6  7]]\n",
      "\n",
      " [[ 8  9 10 11]\n",
      "  [12 13 14 15]]\n",
      "\n",
      " [[16 17 18 19]\n",
      "  [20 21 22 23]]], shape=(3, 2, 4), dtype=int32)\n",
      "[[[ 0  1  2  3]\n",
      "  [ 4  5  6  7]]\n",
      "\n",
      " [[ 8  9 10 11]\n",
      "  [12 13 14 15]]\n",
      "\n",
      " [[16 17 18 19]\n",
      "  [20 21 22 23]]]\n"
     ]
    }
   ],
   "source": [
    "import tensorflow as tf\n",
    "import numpy as np\n",
    "tensor_3 = tf.constant([ \n",
    " [[0, 1, 2, 3],\n",
    " [4, 5, 6, 7]],\n",
    " [[8, 9, 10, 11],\n",
    " [12, 13, 14, 15]],\n",
    " [[16, 17, 18, 19],\n",
    " [20, 21, 22, 23]],])\n",
    "print(tensor_3)\n",
    "print(tensor_3.numpy())"
   ]
  },
  {
   "cell_type": "code",
   "execution_count": 17,
   "id": "d30a4aa5",
   "metadata": {},
   "outputs": [
    {
     "name": "stdout",
     "output_type": "stream",
     "text": [
      "[[10. 20.]\n",
      " [30. 40.]]\n"
     ]
    }
   ],
   "source": [
    "import tensorflow as tf\n",
    "import numpy as np\n",
    "tensor_2 = tf.constant([[10, 20],[30, 40]], dtype=tf.float16) \n",
    "Array_2 = np.array(tensor_2)\n",
    "print(Array_2)"
   ]
  },
  {
   "cell_type": "code",
   "execution_count": 22,
   "id": "221e52b7",
   "metadata": {},
   "outputs": [
    {
     "name": "stdout",
     "output_type": "stream",
     "text": [
      "tf.Tensor(\n",
      "[[2 4]\n",
      " [6 8]], shape=(2, 2), dtype=int32) \n",
      "\n",
      "[[2 4]\n",
      " [6 8]]\n",
      "-------------------\n",
      "tf.Tensor(\n",
      "[[ 1  4]\n",
      " [ 9 16]], shape=(2, 2), dtype=int32) \n",
      "\n",
      "[[ 1  4]\n",
      " [ 9 16]]\n",
      "------------------\n",
      "tf.Tensor(\n",
      "[[ 7 10]\n",
      " [15 22]], shape=(2, 2), dtype=int32) \n",
      "\n",
      "[[ 7 10]\n",
      " [15 22]]\n"
     ]
    }
   ],
   "source": [
    "import tensorflow as tf\n",
    "import numpy as np\n",
    "a = tf.constant([[1, 2],\n",
    " [3, 4]])\n",
    "b = tf.constant([[1, 2],\n",
    " [3, 4]])\n",
    "print(tf.add(a, b), \"\\n\")\n",
    "print(tf.add(a, b).numpy())\n",
    "print('-------------------')\n",
    "print(tf.multiply(a, b), \"\\n\") \n",
    "print(tf.multiply(a, b).numpy()) \n",
    "print('------------------')\n",
    "print(tf.matmul(a, b), \"\\n\")\n",
    "print(tf.matmul(a, b).numpy())"
   ]
  },
  {
   "cell_type": "code",
   "execution_count": 23,
   "id": "f58f9b37",
   "metadata": {},
   "outputs": [
    {
     "name": "stdout",
     "output_type": "stream",
     "text": [
      "tf.Tensor([3 4 5 6], shape=(4,), dtype=int32)\n",
      "tf.Tensor([-1  0  1  2], shape=(4,), dtype=int32)\n",
      "tf.Tensor([2 4 6 8], shape=(4,), dtype=int32)\n",
      "tf.Tensor([0.5 1.  1.5 2. ], shape=(4,), dtype=float64)\n"
     ]
    }
   ],
   "source": [
    "import tensorflow as tf\n",
    "import numpy as np\n",
    "x = tf.constant([1, 2, 3, 4])\n",
    "y = tf.constant(2)\n",
    "print(tf.add(x, y))\n",
    "print(tf.subtract(x, y))\n",
    "print(tf.multiply(x, y))\n",
    "print(tf.divide(x, y))"
   ]
  },
  {
   "cell_type": "code",
   "execution_count": 24,
   "id": "cb62a564",
   "metadata": {},
   "outputs": [
    {
     "name": "stdout",
     "output_type": "stream",
     "text": [
      "<tf.Variable 'Variable:0' shape=(2, 2) dtype=int32, numpy=\n",
      "array([[1, 2],\n",
      "       [3, 4]])>\n",
      "<tf.Variable 'Variable:0' shape=(2,) dtype=bool, numpy=array([ True, False])>\n",
      "<tf.Variable 'Variable:0' shape=(2,) dtype=complex128, numpy=array([1.+2.j, 3.+4.j])>\n"
     ]
    }
   ],
   "source": [
    "import tensorflow as tf\n",
    "import numpy as np\n",
    "tensor_int = tf.constant([[1, 2], [3, 4]]) \n",
    "tensor_bool = tf.Variable([True, False]) \n",
    "tensor_complex = tf.Variable([1 + 2j, 3 + 4j]) \n",
    "variable_int = tf.Variable(tensor_int)\n",
    "variable_bool = tf.Variable(tensor_bool)\n",
    "variable_complex = tf.Variable(tensor_complex)\n",
    "print(variable_int)\n",
    "print(variable_bool)\n",
    "print(variable_complex)"
   ]
  },
  {
   "cell_type": "code",
   "execution_count": 25,
   "id": "ebe28112",
   "metadata": {},
   "outputs": [
    {
     "name": "stdout",
     "output_type": "stream",
     "text": [
      "[3. 4.]\n",
      "[1. 2.]\n",
      "[5. 7.]\n",
      "[-2. -2.]\n"
     ]
    }
   ],
   "source": [
    "import tensorflow as tf\n",
    "import numpy as np\n",
    "a = tf.Variable([1.0, 2.0])\n",
    "b = tf.Variable(a) \n",
    "a.assign([3, 4]) \n",
    "print(a.numpy())\n",
    "print(b.numpy())\n",
    "print(a.assign_add([2,3]).numpy()) \n",
    "print(a.assign_sub([7,9]).numpy()) "
   ]
  },
  {
   "cell_type": "code",
   "execution_count": 31,
   "id": "7c615146",
   "metadata": {},
   "outputs": [
    {
     "name": "stdout",
     "output_type": "stream",
     "text": [
      "Starting: W=5.00 b=0.00, loss=3.05283\n",
      "Epoch  9: W=4.10 b=0.91, loss=1.01853\n"
     ]
    },
    {
     "data": {
      "image/png": "[encoded data removed]",
      "text/plain": [
       "<Figure size 640x480 with 1 Axes>"
      ]
     },
     "metadata": {},
     "output_type": "display_data"
    },
    {
     "name": "stdout",
     "output_type": "stream",
     "text": [
      "Current loss: 1.018535\n"
     ]
    }
   ],
   "source": [
    "import tensorflow as tf\n",
    "import timeit\n",
    "import matplotlib.pyplot as plt\n",
    "from datetime import datetime\n",
    "# The actual line\n",
    "TRUE_W = 4.0\n",
    "TRUE_B = 1.0\n",
    "NUM_EXAMPLES = 1000\n",
    "# A vector of random x values\n",
    "x = tf.random.normal(shape=[NUM_EXAMPLES]) \n",
    "# Generate some noise\n",
    "noise = tf.random.normal(shape=[NUM_EXAMPLES]) \n",
    "# Calculate y\n",
    "y = x * TRUE_W + TRUE_B + noise \n",
    "w = tf.Variable(5.0) \n",
    "b = tf.Variable(0.0) \n",
    "learning_rate=0.1\n",
    "Ws, bs = [], []\n",
    "print(\"Starting: W=%1.2f b=%1.2f, loss=%2.5f\" %\n",
    " (w, b, tf.reduce_mean(tf.square(y - (w * x + b)))))\n",
    "for epoch in range(10): \n",
    " # Update the model with the single giant batch\n",
    " with tf.GradientTape() as t:\n",
    " # Trainable variables are automatically tracked by GradientTape\n",
    "     current_loss = tf.reduce_mean(tf.square(y - (w * x + b))) \n",
    " # Use GradientTape to calculate the gradients with respect to W and b\n",
    "     dw, db = t.gradient(current_loss, [w, b]) \n",
    " # Subtract the gradient scaled by the learning rate\n",
    " w.assign_sub(learning_rate * dw) \n",
    " b.assign_sub(learning_rate * db) \n",
    " \n",
    " # Track this before I update\n",
    " Ws.append(w.numpy())\n",
    " bs.append(b.numpy())\n",
    "           \n",
    "current_loss = tf.reduce_mean(tf.square(y - (w * x + b)))\n",
    "print(\"Epoch %2d: W=%1.2f b=%1.2f, loss=%2.5f\" %\n",
    " (epoch, Ws[-1], bs[-1], current_loss))\n",
    "# Visualize how the trained model performs\n",
    "plt.scatter(x, y, c=\"b\")\n",
    "plt.scatter(x, w * x + b, c=\"r\")\n",
    "plt.show()\n",
    "print(\"Current loss: %1.6f\" % tf.reduce_mean(tf.square(y - (w * x + b))).numpy())"
   ]
  },
  {
   "cell_type": "code",
   "execution_count": null,
   "id": "21431b3f",
   "metadata": {},
   "outputs": [],
   "source": []
  }
 ],
 "metadata": {
  "kernelspec": {
   "display_name": "Python 3 (ipykernel)",
   "language": "python",
   "name": "python3"
  },
  "language_info": {
   "codemirror_mode": {
    "name": "ipython",
    "version": 3
   },
   "file_extension": ".py",
   "mimetype": "text/x-python",
   "name": "python",
   "nbconvert_exporter": "python",
   "pygments_lexer": "ipython3",
   "version": "3.10.9"
  }
 },
 "nbformat": 4,
 "nbformat_minor": 5
}

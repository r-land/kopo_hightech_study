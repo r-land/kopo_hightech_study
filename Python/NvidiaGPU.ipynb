{
 "cells": [
  {
   "cell_type": "code",
   "execution_count": 4,
   "id": "fc307680",
   "metadata": {},
   "outputs": [
    {
     "name": "stdout",
     "output_type": "stream",
     "text": [
      "AND(1,1)= 1\n"
     ]
    }
   ],
   "source": [
    "import numpy as np\n",
    "x=np.array([1,1])\n",
    "w=np.array([0.5,0.5])\n",
    "res=np.sum(w*x)\n",
    "print('AND(1,1)=',0 if res < 1 else 1)"
   ]
  },
  {
   "cell_type": "code",
   "execution_count": 6,
   "id": "99b28c67",
   "metadata": {},
   "outputs": [
    {
     "name": "stdout",
     "output_type": "stream",
     "text": [
      "1/1 [==============================] - 0s 34ms/step\n",
      "[[0.01743491]\n",
      " [0.21289863]\n",
      " [0.19275495]\n",
      " [0.784476  ]]\n"
     ]
    }
   ],
   "source": [
    "import tensorflow as tf\n",
    "\n",
    "input_data = tf.constant([[0,0],[0,1],[1,0],[1,1]])\n",
    "expected_output = tf.constant([[0],[0],[0],[1]])\n",
    "model = tf.keras.Sequential([tf.keras.layers.Dense(units=1,input_shape=(2,), activation='sigmoid')])\n",
    "model.compile(loss='binary_crossentropy', optimizer='adam')\n",
    "model.fit(input_data, expected_output,epochs=5000, verbose=0)\n",
    "predicted_output = model.predict(input_data)\n",
    "print(predicted_output)"
   ]
  },
  {
   "cell_type": "code",
   "execution_count": 7,
   "id": "31796222",
   "metadata": {},
   "outputs": [
    {
     "name": "stdout",
     "output_type": "stream",
     "text": [
      "Weight 0: [[2.5994844]\n",
      " [2.7241511]]\n",
      "Weight 1: [-4.031692]\n"
     ]
    }
   ],
   "source": [
    "weights = model.get_weights()\n",
    "for i, weight in enumerate(weights):\n",
    "    print(f\"Weight {i}: {weight}\")"
   ]
  },
  {
   "cell_type": "code",
   "execution_count": null,
   "id": "8249685a",
   "metadata": {},
   "outputs": [],
   "source": [
    "m"
   ]
  }
 ],
 "metadata": {
  "kernelspec": {
   "display_name": "Python 3 (ipykernel)",
   "language": "python",
   "name": "python3"
  },
  "language_info": {
   "codemirror_mode": {
    "name": "ipython",
    "version": 3
   },
   "file_extension": ".py",
   "mimetype": "text/x-python",
   "name": "python",
   "nbconvert_exporter": "python",
   "pygments_lexer": "ipython3",
   "version": "3.10.9"
  }
 },
 "nbformat": 4,
 "nbformat_minor": 5
}
